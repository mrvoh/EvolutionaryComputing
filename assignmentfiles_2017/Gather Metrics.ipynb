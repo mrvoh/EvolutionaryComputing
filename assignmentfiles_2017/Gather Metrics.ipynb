{
 "cells": [
  {
   "cell_type": "code",
   "execution_count": 40,
   "metadata": {},
   "outputs": [],
   "source": [
    "import matplotlib.pyplot as plt\n",
    "import csv\n",
    "import numpy as np\n",
    "import pandas as pd\n",
    "import glob\n",
    "\n",
    "fitness_vals=[]\n",
    "\n",
    "# Run script to collect datasets\n",
    "#  for i in {1..10}; do java -jar testrun.jar -submission=RDE -evaluation=BentCigarFunction -seed=4  > Bent_cigar_fitness_${i}.txt; done \n",
    "\n",
    "\n",
    "allFiles = glob.glob(\"fitness*.txt\")\n",
    "#allFiles = glob.glob(\"Bent_cigar_fitness_*.txt\")\n",
    "\n",
    "frame = pd.DataFrame()\n",
    "list_ = []\n",
    "for file_ in allFiles:\n",
    "    df = pd.read_csv(file_,index_col=None, header=0)\n",
    "    df.drop(df.tail(10).index,inplace=True)\n",
    "    df = pd.to_numeric(df.iloc[:,0])\n",
    "    list_.append(df)\n",
    "frame = pd.concat(list_,axis=1)\n"
   ]
  },
  {
   "cell_type": "code",
   "execution_count": null,
   "metadata": {
    "collapsed": true
   },
   "outputs": [],
   "source": []
  },
  {
   "cell_type": "code",
   "execution_count": 36,
   "metadata": {},
   "outputs": [
    {
     "data": {
      "image/png": "[encoded data removed]",
      "text/plain": [
       "<Figure size 432x288 with 1 Axes>"
      ]
     },
     "metadata": {},
     "output_type": "display_data"
    },
    {
     "data": {
      "image/png": "[encoded data removed]",
      "text/plain": [
       "<Figure size 432x288 with 1 Axes>"
      ]
     },
     "metadata": {},
     "output_type": "display_data"
    }
   ],
   "source": [
    "frame_bent.plot()\n",
    "plt.xlabel('FEs')\n",
    "plt.ylabel('Max fitness')\n",
    "plt.legend(\"\")\n",
    "frame.plot()\n",
    "plt.xlabel('FEs')\n",
    "plt.ylabel('Max fitness')\n",
    "plt.legend(\"\")\n",
    "plt.show()"
   ]
  },
  {
   "cell_type": "code",
   "execution_count": null,
   "metadata": {
    "collapsed": true
   },
   "outputs": [],
   "source": [
    "\n",
    "\n",
    "df = pd.read_csv('fitness.txt')\n",
    "df.drop(df.tail(10).index,inplace=True)\n",
    "    \n",
    "plt.xlabel('FEs')\n",
    "plt.ylabel('Max fitness')\n",
    "plt.legend()\n",
    "plt.show()"
   ]
  },
  {
   "cell_type": "code",
   "execution_count": null,
   "metadata": {
    "collapsed": true
   },
   "outputs": [],
   "source": []
  }
 ],
 "metadata": {
  "kernelspec": {
   "display_name": "Python 3",
   "language": "python",
   "name": "python3"
  },
  "language_info": {
   "codemirror_mode": {
    "name": "ipython",
    "version": 3
   },
   "file_extension": ".py",
   "mimetype": "text/x-python",
   "name": "python",
   "nbconvert_exporter": "python",
   "pygments_lexer": "ipython3",
   "version": "3.5.3"
  }
 },
 "nbformat": 4,
 "nbformat_minor": 2
}
